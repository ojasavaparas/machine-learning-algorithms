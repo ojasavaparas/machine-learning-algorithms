{
 "cells": [
  {
   "cell_type": "code",
   "execution_count": 86,
   "metadata": {
    "collapsed": true
   },
   "outputs": [],
   "source": [
    "import numpy as np\n",
    "import matplotlib.pyplot as plt\n",
    "import seaborn as sns"
   ]
  },
  {
   "cell_type": "code",
   "execution_count": 87,
   "metadata": {
    "collapsed": true
   },
   "outputs": [],
   "source": [
    "class linregression():\n",
    "    def __init__ (self):\n",
    "        self.theta_0 = 0\n",
    "        self.theta_1 = 0\n",
    "        \n",
    "        self.history = {\n",
    "            'theta_0': [],\n",
    "            'theta_1': [],\n",
    "            'loss': []\n",
    "        }\n",
    "    \n",
    "    def predict(self, X):\n",
    "        return self.theta_0 + self.theta_1 * X\n",
    "  \n",
    "    def squared_error(self, y_, y, m):\n",
    "        return np.sum(np.square(y_ - y)) / m \n",
    "    \n",
    "    def fit(self, X, y, alpha=0.01, epochs=100):\n",
    "        m = X.shape[0]\n",
    "        for i in xrange(epochs):\n",
    "            y_ = self.predict(X)\n",
    "        \n",
    "            loss = self.squared_error(y_, y, m)\n",
    "            self.history['loss'].append(loss)\n",
    "            \n",
    "            \n",
    "            print 'epoch =', i, 'loss =', loss, 'parameters =', (self.theta_0, self.theta_1)\n",
    "            \n",
    "            \n",
    "            update_theta_0 = np.sum(y_ - y) / m\n",
    "            update_theta_1 = np.sum(np.multiply((y_ - y), X)) / m\n",
    "            \n",
    "            self.theta_0 = self.theta_0 - (alpha * update_theta_0)\n",
    "            self.theta_1 = self.theta_1 - (alpha * update_theta_1)\n",
    "            \n",
    "            self.history['theta_0'].append(self.theta_0)\n",
    "            self.history['theta_1'].append(self.theta_1)\n"
   ]
  },
  {
   "cell_type": "code",
   "execution_count": null,
   "metadata": {
    "collapsed": false
   },
   "outputs": [],
   "source": []
  },
  {
   "cell_type": "code",
   "execution_count": 88,
   "metadata": {
    "collapsed": true
   },
   "outputs": [],
   "source": [
    "X = np.random.randn(100)\n",
    "y = np.random.randn(100)*X"
   ]
  },
  {
   "cell_type": "code",
   "execution_count": 89,
   "metadata": {
    "collapsed": false
   },
   "outputs": [
    {
     "data": {
      "image/png": "[encoded data removed]",
      "text/plain": [
       "<matplotlib.figure.Figure at 0x7fc419edce90>"
      ]
     },
     "metadata": {},
     "output_type": "display_data"
    }
   ],
   "source": [
    "plt.scatter(X,y)\n",
    "plt.show()"
   ]
  },
  {
   "cell_type": "code",
   "execution_count": 90,
   "metadata": {
    "collapsed": true
   },
   "outputs": [],
   "source": [
    "clf = linregression()"
   ]
  },
  {
   "cell_type": "code",
   "execution_count": 91,
   "metadata": {
    "collapsed": false
   },
   "outputs": [
    {
     "name": "stdout",
     "output_type": "stream",
     "text": [
      "epoch = 0 loss = 0.882649889725 parameters = (0, 0)\n",
      "epoch = 1 loss = 0.882626017136 parameters = (-0.00031630786981611046, -0.00014112553314357847)\n",
      "epoch = 2 loss = 0.882602623005 parameters = (-0.00062942683805924395, -0.00028083666717590992)\n",
      "epoch = 3 loss = 0.882579697742 parameters = (-0.00093938905254912141, -0.00041914758103165267)\n",
      "epoch = 4 loss = 0.88255723195 parameters = (-0.001246226337032832, -0.00055607231147287918)\n",
      "epoch = 5 loss = 0.882535216419 parameters = (-0.0015499701944515754, -0.00069162475451496044)\n",
      "epoch = 6 loss = 0.882513642127 parameters = (-0.0018506518101744735, -0.00082581866683814967)\n",
      "epoch = 7 loss = 0.882492500229 parameters = (-0.0021483020551997857, -0.00095866766718499764)\n",
      "epoch = 8 loss = 0.882471782059 parameters = (-0.0024429514893238584, -0.0010901852377437607)\n",
      "epoch = 9 loss = 0.882451479126 parameters = (-0.0027346303642781298, -0.0012203847255179234)\n",
      "epoch = 10 loss = 0.882431583105 parameters = (-0.0030233686268345155, -0.0013492793436819858)\n",
      "epoch = 11 loss = 0.882412085844 parameters = (-0.0033091959218794903, -0.0014768821729236519)\n",
      "epoch = 12 loss = 0.882392979348 parameters = (-0.0035921415954571862, -0.0016032061627725515)\n",
      "epoch = 13 loss = 0.882374255786 parameters = (-0.0038722346977818137, -0.0017282641329156349)\n",
      "epoch = 14 loss = 0.882355907484 parameters = (-0.0041495039862197202, -0.0018520687744993714)\n",
      "epoch = 15 loss = 0.882337926921 parameters = (-0.0044239779282413891, -0.0019746326514188885)\n",
      "epoch = 16 loss = 0.882320306726 parameters = (-0.0046956847043436801, -0.0020959682015941768)\n",
      "epoch = 17 loss = 0.882303039676 parameters = (-0.0049646522109426192, -0.0022160877382334907)\n",
      "epoch = 18 loss = 0.882286118694 parameters = (-0.0052309080632370253, -0.0023350034510840807)\n",
      "epoch = 19 loss = 0.882269536845 parameters = (-0.0054944795980432729, -0.0024527274076703788)\n",
      "epoch = 20 loss = 0.88225328733 parameters = (-0.0057553938766014808, -0.0025692715545197592)\n",
      "epoch = 21 loss = 0.882237363489 parameters = (-0.0060136776873534132, -0.0026846477183760072)\n",
      "epoch = 22 loss = 0.882221758795 parameters = (-0.0062693575486923838, -0.0027988676074006155)\n",
      "epoch = 23 loss = 0.882206466852 parameters = (-0.006522459711685435, -0.0029119428123620303)\n",
      "epoch = 24 loss = 0.882191481391 parameters = (-0.006773010162768084, -0.003023884807812962)\n",
      "epoch = 25 loss = 0.88217679627 parameters = (-0.0070210346264119004, -0.0031347049532559007)\n",
      "epoch = 26 loss = 0.882162405469 parameters = (-0.0072665585677651997, -0.0032444144942969239)\n",
      "epoch = 27 loss = 0.88214830309 parameters = (-0.0075096071952671139, -0.00335302456378794)\n",
      "epoch = 28 loss = 0.882134483352 parameters = (-0.0077502054632353169, -0.0034605461829574739)\n",
      "epoch = 29 loss = 0.88212094059 parameters = (-0.0079883780744276628, -0.0035669902625301043)\n",
      "epoch = 30 loss = 0.882107669253 parameters = (-0.0082241494825780054, -0.0036723676038346808)\n",
      "epoch = 31 loss = 0.882094663901 parameters = (-0.0084575438949064507, -0.0037766888999014132)\n",
      "epoch = 32 loss = 0.882081919203 parameters = (-0.0086885852746043171, -0.0038799647365479672)\n",
      "epoch = 33 loss = 0.882069429935 parameters = (-0.0089172973432940349, -0.0039822055934546595)\n",
      "epoch = 34 loss = 0.882057190977 parameters = (-0.0091437035834642608, -0.0040834218452288681)\n",
      "epoch = 35 loss = 0.882045197314 parameters = (-0.0093678272408804376, -0.0041836237624587663)\n",
      "epoch = 36 loss = 0.882033444029 parameters = (-0.009589691326971064, -0.0042828215127564909)\n",
      "epoch = 37 loss = 0.882021926303 parameters = (-0.0098093186211899008, -0.0043810251617908387)\n",
      "epoch = 38 loss = 0.882010639416 parameters = (-0.010026731673354376, -0.0044782446743096135)\n",
      "epoch = 39 loss = 0.881999578742 parameters = (-0.010241952805960415, -0.0045744899151517098)\n",
      "epoch = 40 loss = 0.881988739746 parameters = (-0.010455004116473932, -0.0046697706502490518)\n",
      "epoch = 41 loss = 0.881978117986 parameters = (-0.010665907479599232, -0.0047640965476184738)\n",
      "epoch = 42 loss = 0.881967709107 parameters = (-0.010874684549524545, -0.0048574771783436617)\n",
      "epoch = 43 loss = 0.881957508844 parameters = (-0.011081356762144915, -0.0049499220175472387)\n",
      "epoch = 44 loss = 0.881947513015 parameters = (-0.011285945337262701, -0.0050414404453530985)\n",
      "epoch = 45 loss = 0.881937717523 parameters = (-0.011488471280765878, -0.005132041747839094)\n",
      "epoch = 46 loss = 0.881928118352 parameters = (-0.011688955386784395, -0.0052217351179801603)\n",
      "epoch = 47 loss = 0.881918711569 parameters = (-0.011887418239824789, -0.0053105296565819837)\n",
      "epoch = 48 loss = 0.881909493316 parameters = (-0.012083880216883284, -0.0053984343732053058)\n",
      "epoch = 49 loss = 0.881900459816 parameters = (-0.012278361489537587, -0.0054854581870809526)\n",
      "epoch = 50 loss = 0.881891607365 parameters = (-0.012470882026017607, -0.0055716099280156885)\n",
      "epoch = 51 loss = 0.881882932336 parameters = (-0.012661461593255294, -0.0056568983372889811)\n",
      "epoch = 52 loss = 0.881874431172 parameters = (-0.012850119758913816, -0.0057413320685407781)\n",
      "epoch = 53 loss = 0.881866100388 parameters = (-0.013036875893396279, -0.0058249196886503681)\n",
      "epoch = 54 loss = 0.88185793657 parameters = (-0.013221749171834211, -0.0059076696786064383)\n",
      "epoch = 55 loss = 0.881849936371 parameters = (-0.01340475857605599, -0.0059895904343683958)\n",
      "epoch = 56 loss = 0.881842096513 parameters = (-0.013585922896535433, -0.0060706902677190536)\n",
      "epoch = 57 loss = 0.881834413781 parameters = (-0.013765260734320746, -0.0061509774071087661)\n",
      "epoch = 58 loss = 0.881826885026 parameters = (-0.013942790502944025, -0.0062304599984910908)\n",
      "epoch = 59 loss = 0.881819507163 parameters = (-0.014118530430311516, -0.0063091461061500764)\n",
      "epoch = 60 loss = 0.881812277167 parameters = (-0.014292498560574815, -0.0063870437135192457)\n",
      "epoch = 61 loss = 0.881805192075 parameters = (-0.014464712755983209, -0.0064641607239923704)\n",
      "epoch = 62 loss = 0.881798248982 parameters = (-0.014635190698717345, -0.0065405049617261084)\n",
      "epoch = 63 loss = 0.881791445042 parameters = (-0.014803949892704416, -0.0066160841724345913)\n",
      "epoch = 64 loss = 0.881784777467 parameters = (-0.014971007665415042, -0.0066909060241760457)\n",
      "epoch = 65 loss = 0.881778243524 parameters = (-0.015136381169642056, -0.0067649781081315207)\n",
      "epoch = 66 loss = 0.881771840534 parameters = (-0.015300087385261342, -0.0068383079393758081)\n",
      "epoch = 67 loss = 0.881765565873 parameters = (-0.015462143120974931, -0.0069109029576406239)\n",
      "epoch = 68 loss = 0.881759416968 parameters = (-0.015622565016036524, -0.006982770528070145)\n",
      "epoch = 69 loss = 0.881753391299 parameters = (-0.01578136954195963, -0.0070539179419689584)\n",
      "epoch = 70 loss = 0.881747486397 parameters = (-0.015938573004208468, -0.0071243524175425114)\n",
      "epoch = 71 loss = 0.881741699841 parameters = (-0.016094191543871848, -0.0071940811006301385)\n",
      "epoch = 72 loss = 0.881736029259 parameters = (-0.016248241139320153, -0.0072631110654307347)\n",
      "epoch = 73 loss = 0.881730472327 parameters = (-0.016400737607845647, -0.0073314493152211429)\n",
      "epoch = 74 loss = 0.881725026767 parameters = (-0.016551696607286219, -0.0073991027830673482)\n",
      "epoch = 75 loss = 0.881719690346 parameters = (-0.016701133637632787, -0.0074660783325285309)\n",
      "epoch = 76 loss = 0.881714460878 parameters = (-0.01684906404262047, -0.0075323827583540582)\n",
      "epoch = 77 loss = 0.881709336218 parameters = (-0.016995503011303752, -0.0075980227871734873)\n",
      "epoch = 78 loss = 0.881704314267 parameters = (-0.017140465579615748, -0.0076630050781796499)\n",
      "epoch = 79 loss = 0.881699392966 parameters = (-0.01728396663191175, -0.0077273362238048813)\n",
      "epoch = 80 loss = 0.881694570297 parameters = (-0.017426020902497234, -0.0077910227503904649)\n",
      "epoch = 81 loss = 0.881689844284 parameters = (-0.017566642977140435, -0.0078540711188493737)\n",
      "epoch = 82 loss = 0.88168521299 parameters = (-0.017705847294569709, -0.0079164877253223489)\n",
      "epoch = 83 loss = 0.881680674516 parameters = (-0.017843648147955769, -0.0079782789018274132)\n",
      "epoch = 84 loss = 0.881676227002 parameters = (-0.017980059686379002, -0.0080394509169028558)\n",
      "epoch = 85 loss = 0.881671868624 parameters = (-0.018115095916281989, -0.0081000099762437838)\n",
      "epoch = 86 loss = 0.881667597597 parameters = (-0.018248770702907379, -0.0081599622233322726)\n",
      "epoch = 87 loss = 0.88166341217 parameters = (-0.018381097771721269, -0.0082193137400612109)\n",
      "epoch = 88 loss = 0.881659310627 parameters = (-0.018512090709822241, -0.0082780705473518758)\n",
      "epoch = 89 loss = 0.881655291286 parameters = (-0.0186417629673362, -0.0083362386057653243)\n",
      "epoch = 90 loss = 0.881651352502 parameters = (-0.018770127858797139, -0.0083938238161076449)\n",
      "epoch = 91 loss = 0.881647492658 parameters = (-0.018897198564513988, -0.0084508320200291521)\n",
      "epoch = 92 loss = 0.881643710172 parameters = (-0.019022988131923699, -0.0085072690006175473)\n",
      "epoch = 93 loss = 0.881640003496 parameters = (-0.019147509476930672, -0.0085631404829851557)\n",
      "epoch = 94 loss = 0.881636371108 parameters = (-0.0192707753852327, -0.0086184521348502598)\n",
      "epoch = 95 loss = 0.88163281152 parameters = (-0.019392798513633524, -0.0086732095671126011)\n",
      "epoch = 96 loss = 0.881629323273 parameters = (-0.019513591391342178, -0.0087274183344231201)\n",
      "epoch = 97 loss = 0.881625904938 parameters = (-0.019633166421259229, -0.0087810839357479742)\n",
      "epoch = 98 loss = 0.881622555112 parameters = (-0.019751535881250042, -0.0088342118149268983)\n",
      "epoch = 99 loss = 0.881619272423 parameters = (-0.019868711925405232, -0.008886807361225971)\n"
     ]
    }
   ],
   "source": [
    "clf.fit(X,y)"
   ]
  },
  {
   "cell_type": "code",
   "execution_count": 79,
   "metadata": {
    "collapsed": false
   },
   "outputs": [],
   "source": [
    "y_ =clf.predict(X)"
   ]
  },
  {
   "cell_type": "code",
   "execution_count": 74,
   "metadata": {
    "collapsed": false
   },
   "outputs": [
    {
     "data": {
      "image/png": "[encoded data removed]",
      "text/plain": [
       "<matplotlib.figure.Figure at 0x7fc41a1caf50>"
      ]
     },
     "metadata": {},
     "output_type": "display_data"
    }
   ],
   "source": [
    "plt.scatter(X,y)\n",
    "plt.plot(X,y_)\n",
    "plt.show()"
   ]
  },
  {
   "cell_type": "code",
   "execution_count": 75,
   "metadata": {
    "collapsed": false
   },
   "outputs": [
    {
     "data": {
      "image/png": "[encoded data removed]",
      "text/plain": [
       "<matplotlib.figure.Figure at 0x7fc41a110710>"
      ]
     },
     "metadata": {},
     "output_type": "display_data"
    }
   ],
   "source": [
    "loss = clf.history['loss']\n",
    "plt.plot([i for i in xrange(1, 101)], loss)\n",
    "plt.show()"
   ]
  },
  {
   "cell_type": "code",
   "execution_count": 77,
   "metadata": {
    "collapsed": false
   },
   "outputs": [
    {
     "data": {
      "image/png": "[encoded data removed]",
      "text/plain": [
       "<matplotlib.figure.Figure at 0x7fc419d3d250>"
      ]
     },
     "metadata": {},
     "output_type": "display_data"
    }
   ],
   "source": [
    "theta_0 = clf.history['theta_0']\n",
    "theta_1 = clf.history['theta_1']\n",
    "plt.plot(theta_0, theta_1)\n",
    "plt.show()"
   ]
  },
  {
   "cell_type": "code",
   "execution_count": null,
   "metadata": {
    "collapsed": true
   },
   "outputs": [],
   "source": []
  },
  {
   "cell_type": "code",
   "execution_count": null,
   "metadata": {
    "collapsed": false
   },
   "outputs": [],
   "source": []
  },
  {
   "cell_type": "code",
   "execution_count": null,
   "metadata": {
    "collapsed": true
   },
   "outputs": [],
   "source": []
  },
  {
   "cell_type": "code",
   "execution_count": null,
   "metadata": {
    "collapsed": true
   },
   "outputs": [],
   "source": []
  },
  {
   "cell_type": "code",
   "execution_count": null,
   "metadata": {
    "collapsed": true
   },
   "outputs": [],
   "source": []
  }
 ],
 "metadata": {
  "kernelspec": {
   "display_name": "Python 2",
   "language": "python",
   "name": "python2"
  },
  "language_info": {
   "codemirror_mode": {
    "name": "ipython",
    "version": 2
   },
   "file_extension": ".py",
   "mimetype": "text/x-python",
   "name": "python",
   "nbconvert_exporter": "python",
   "pygments_lexer": "ipython2",
   "version": "2.7.13"
  }
 },
 "nbformat": 4,
 "nbformat_minor": 2
}
