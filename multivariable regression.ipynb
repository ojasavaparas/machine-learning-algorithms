{
 "cells": [
  {
   "cell_type": "code",
   "execution_count": 7,
   "metadata": {
    "collapsed": true
   },
   "outputs": [],
   "source": [
    "import numpy as np\n",
    "import matplotlib.pyplot as plt\n",
    "import seaborn as sns"
   ]
  },
  {
   "cell_type": "code",
   "execution_count": 24,
   "metadata": {
    "collapsed": false
   },
   "outputs": [],
   "source": [
    "class multiregression():            \n",
    "    def __init__(self):\n",
    "        self.theta = None\n",
    "        \n",
    "        self.history = {\n",
    "            'loss': []\n",
    "        }\n",
    "        \n",
    "    # predict the output using the current parameters\n",
    "    def predict(self, X, expand=True):\n",
    "        if expand:\n",
    "            b = np.ones(X.shape[0])\n",
    "            X = np.c_[b, X]\n",
    "        return np.sum(X * self.theta, axis=1)\n",
    "    \n",
    "    # calculate the loss\n",
    "    def squared_error(self, y_, y, m):\n",
    "        return np.sum(np.square(y_ - y)) / m\n",
    "    \n",
    "    def fit (self, X, y, alpha=0.1, epoch=100):\n",
    "        # get the shape of the data\n",
    "        m, n = X.shape\n",
    "        self.theta = np.zeros((n + 1, ))\n",
    "    \n",
    "        # add an extra feature for bias \n",
    "        b = np.ones(m)\n",
    "        X = np.c_[b, X]\n",
    "        # start the training\n",
    "        for i in xrange(epoch):\n",
    "            # get the predicted value on current parameters\n",
    "            y_ = self.predict(X, False)\n",
    "            # get the loss\n",
    "            loss = self.squared_error(y_, y, m)\n",
    "            self.history['loss'].append(loss)\n",
    "            \n",
    "            # update the weights\n",
    "            update_theta = np.zeros_like(self.theta)\n",
    "            for j in xrange(n):\n",
    "                update_theta[j] = np.sum(np.multiply((y_ - y), X[:, j])) / m\n",
    "            self.theta -= alpha * update_theta\n",
    "        print 'loss =', loss"
   ]
  },
  {
   "cell_type": "code",
   "execution_count": 25,
   "metadata": {
    "collapsed": true
   },
   "outputs": [],
   "source": [
    "X = np.random.random((100, 2)) \n",
    "y = np.sum(np.random.randint(100, size = (2, )) * X, axis=1)"
   ]
  },
  {
   "cell_type": "code",
   "execution_count": 26,
   "metadata": {
    "collapsed": true
   },
   "outputs": [],
   "source": [
    "clf = multiregression()"
   ]
  },
  {
   "cell_type": "code",
   "execution_count": 27,
   "metadata": {
    "collapsed": false
   },
   "outputs": [
    {
     "name": "stdout",
     "output_type": "stream",
     "text": [
      "loss = 129.916023827\n"
     ]
    }
   ],
   "source": [
    "clf.fit(X,y,epoch=100)"
   ]
  },
  {
   "cell_type": "code",
   "execution_count": null,
   "metadata": {
    "collapsed": true
   },
   "outputs": [],
   "source": []
  },
  {
   "cell_type": "code",
   "execution_count": null,
   "metadata": {
    "collapsed": true
   },
   "outputs": [],
   "source": []
  }
 ],
 "metadata": {
  "kernelspec": {
   "display_name": "Python 2",
   "language": "python",
   "name": "python2"
  },
  "language_info": {
   "codemirror_mode": {
    "name": "ipython",
    "version": 2
   },
   "file_extension": ".py",
   "mimetype": "text/x-python",
   "name": "python",
   "nbconvert_exporter": "python",
   "pygments_lexer": "ipython2",
   "version": "2.7.13"
  }
 },
 "nbformat": 4,
 "nbformat_minor": 2
}
